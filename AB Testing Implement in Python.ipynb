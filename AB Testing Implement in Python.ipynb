{
 "cells": [
  {
   "cell_type": "code",
   "execution_count": 1,
   "metadata": {},
   "outputs": [],
   "source": [
    "# I started by importing the libraries\n",
    "\n",
    "import pandas as pd\n",
    "import numpy as np\n",
    "import math\n",
    "import statsmodels.stats.api as sms\n",
    "import scipy.stats as st\n",
    "import matplotlib.pyplot as plt"
   ]
  },
  {
   "cell_type": "code",
   "execution_count": 4,
   "metadata": {},
   "outputs": [],
   "source": [
    "#I decided to import the data obatined from Kaggle\n",
    "\n",
    "df= pd.read_csv('ab_data.csv')"
   ]
  },
  {
   "cell_type": "code",
   "execution_count": 6,
   "metadata": {},
   "outputs": [
    {
     "data": {
      "text/html": [
       "<div>\n",
       "<style scoped>\n",
       "    .dataframe tbody tr th:only-of-type {\n",
       "        vertical-align: middle;\n",
       "    }\n",
       "\n",
       "    .dataframe tbody tr th {\n",
       "        vertical-align: top;\n",
       "    }\n",
       "\n",
       "    .dataframe thead th {\n",
       "        text-align: right;\n",
       "    }\n",
       "</style>\n",
       "<table border=\"1\" class=\"dataframe\">\n",
       "  <thead>\n",
       "    <tr style=\"text-align: right;\">\n",
       "      <th></th>\n",
       "      <th>user_id</th>\n",
       "      <th>timestamp</th>\n",
       "      <th>group</th>\n",
       "      <th>landing_page</th>\n",
       "      <th>converted</th>\n",
       "    </tr>\n",
       "  </thead>\n",
       "  <tbody>\n",
       "    <tr>\n",
       "      <th>0</th>\n",
       "      <td>851104</td>\n",
       "      <td>11:48.6</td>\n",
       "      <td>control</td>\n",
       "      <td>old_page</td>\n",
       "      <td>0</td>\n",
       "    </tr>\n",
       "    <tr>\n",
       "      <th>1</th>\n",
       "      <td>804228</td>\n",
       "      <td>01:45.2</td>\n",
       "      <td>control</td>\n",
       "      <td>old_page</td>\n",
       "      <td>0</td>\n",
       "    </tr>\n",
       "    <tr>\n",
       "      <th>2</th>\n",
       "      <td>661590</td>\n",
       "      <td>55:06.2</td>\n",
       "      <td>treatment</td>\n",
       "      <td>new_page</td>\n",
       "      <td>0</td>\n",
       "    </tr>\n",
       "    <tr>\n",
       "      <th>3</th>\n",
       "      <td>853541</td>\n",
       "      <td>28:03.1</td>\n",
       "      <td>treatment</td>\n",
       "      <td>new_page</td>\n",
       "      <td>0</td>\n",
       "    </tr>\n",
       "    <tr>\n",
       "      <th>4</th>\n",
       "      <td>864975</td>\n",
       "      <td>52:26.2</td>\n",
       "      <td>control</td>\n",
       "      <td>old_page</td>\n",
       "      <td>1</td>\n",
       "    </tr>\n",
       "  </tbody>\n",
       "</table>\n",
       "</div>"
      ],
      "text/plain": [
       "   user_id timestamp      group landing_page  converted\n",
       "0   851104   11:48.6    control     old_page          0\n",
       "1   804228   01:45.2    control     old_page          0\n",
       "2   661590   55:06.2  treatment     new_page          0\n",
       "3   853541   28:03.1  treatment     new_page          0\n",
       "4   864975   52:26.2    control     old_page          1"
      ]
     },
     "execution_count": 6,
     "metadata": {},
     "output_type": "execute_result"
    }
   ],
   "source": [
    "#I did some checks to be understand the underlining trends and statistical characteristics of the features\n",
    "\n",
    "df.head()"
   ]
  },
  {
   "cell_type": "code",
   "execution_count": 7,
   "metadata": {},
   "outputs": [
    {
     "data": {
      "text/plain": [
       "user_id         False\n",
       "timestamp       False\n",
       "group           False\n",
       "landing_page    False\n",
       "converted       False\n",
       "dtype: bool"
      ]
     },
     "execution_count": 7,
     "metadata": {},
     "output_type": "execute_result"
    }
   ],
   "source": [
    "df.isnull().any()"
   ]
  },
  {
   "cell_type": "code",
   "execution_count": 8,
   "metadata": {},
   "outputs": [
    {
     "data": {
      "text/plain": [
       "user_id         0.0\n",
       "timestamp       0.0\n",
       "group           0.0\n",
       "landing_page    0.0\n",
       "converted       0.0\n",
       "dtype: float64"
      ]
     },
     "execution_count": 8,
     "metadata": {},
     "output_type": "execute_result"
    }
   ],
   "source": [
    "df.isnull().sum()/df.shape[0]"
   ]
  },
  {
   "cell_type": "code",
   "execution_count": 9,
   "metadata": {},
   "outputs": [
    {
     "data": {
      "text/plain": [
       "user_id         0.0\n",
       "timestamp       0.0\n",
       "group           0.0\n",
       "landing_page    0.0\n",
       "converted       0.0\n",
       "dtype: float64"
      ]
     },
     "execution_count": 9,
     "metadata": {},
     "output_type": "execute_result"
    }
   ],
   "source": [
    "df.isnull().sum()/df.shape[0]"
   ]
  },
  {
   "cell_type": "code",
   "execution_count": 10,
   "metadata": {},
   "outputs": [
    {
     "data": {
      "text/plain": [
       "dtype('O')"
      ]
     },
     "execution_count": 10,
     "metadata": {},
     "output_type": "execute_result"
    }
   ],
   "source": [
    "df.group.dtype"
   ]
  },
  {
   "cell_type": "code",
   "execution_count": 11,
   "metadata": {},
   "outputs": [
    {
     "name": "stdout",
     "output_type": "stream",
     "text": [
      "Number of rows: 294478 Number of columns: 5\n"
     ]
    }
   ],
   "source": [
    "print( \"Number of rows:\", df.shape[0], \"Number of columns:\", df.shape[1])"
   ]
  },
  {
   "cell_type": "code",
   "execution_count": 12,
   "metadata": {},
   "outputs": [
    {
     "data": {
      "text/plain": [
       "treatment    147276\n",
       "control      147202\n",
       "Name: group, dtype: int64"
      ]
     },
     "execution_count": 12,
     "metadata": {},
     "output_type": "execute_result"
    }
   ],
   "source": [
    "df.group.value_counts()"
   ]
  },
  {
   "cell_type": "code",
   "execution_count": 13,
   "metadata": {},
   "outputs": [],
   "source": [
    "# Some of the control groups saw the new page and some treatment groups saw the old page.I expunge them\n",
    "\n",
    "control_new_page= (df[\"group\"]== \"control\") & (df[\"landing_page\"] ==\"new_page\")\n",
    "Index_to_expunge1= df[control_new_page].index\n",
    "df= df.drop(Index_to_expunge1)"
   ]
  },
  {
   "cell_type": "code",
   "execution_count": 14,
   "metadata": {},
   "outputs": [],
   "source": [
    "treatment_old_page= (df[\"group\"]== \"treatment\") & (df[\"landing_page\"] ==\"old_page\")\n",
    "Index_to_expunge2= df[treatment_old_page].index\n",
    "df= df.drop(Index_to_expunge2)"
   ]
  },
  {
   "cell_type": "code",
   "execution_count": 16,
   "metadata": {},
   "outputs": [
    {
     "data": {
      "text/plain": [
       "(290585, 5)"
      ]
     },
     "execution_count": 16,
     "metadata": {},
     "output_type": "execute_result"
    }
   ],
   "source": [
    "df.shape\n"
   ]
  },
  {
   "cell_type": "code",
   "execution_count": 17,
   "metadata": {},
   "outputs": [
    {
     "data": {
      "text/plain": [
       "treatment    145311\n",
       "control      145274\n",
       "Name: group, dtype: int64"
      ]
     },
     "execution_count": 17,
     "metadata": {},
     "output_type": "execute_result"
    }
   ],
   "source": [
    "df.group.value_counts()"
   ]
  },
  {
   "cell_type": "code",
   "execution_count": 20,
   "metadata": {},
   "outputs": [
    {
     "data": {
      "text/plain": [
       "1"
      ]
     },
     "execution_count": 20,
     "metadata": {},
     "output_type": "execute_result"
    }
   ],
   "source": [
    "# See how many duplicated users are there and remove duplicates, if any\n",
    "\n",
    "df.user_id.count()-df.user_id.nunique()"
   ]
  },
  {
   "cell_type": "code",
   "execution_count": 21,
   "metadata": {},
   "outputs": [],
   "source": [
    "# To remove duplicated user_ids, so that each row uniquely identifies each user\n",
    "\n",
    "df.drop_duplicates(subset='user_id', keep='first', inplace=True)"
   ]
  },
  {
   "cell_type": "code",
   "execution_count": 23,
   "metadata": {},
   "outputs": [
    {
     "name": "stdout",
     "output_type": "stream",
     "text": [
      "Split of control users who saw old page vs treatment users who saw new page: 49.99 % 50.01 %\n"
     ]
    }
   ],
   "source": [
    "# Show the percentage split between the 2 categories of users of new vs old page\n",
    "#Calculate pooled probability\n",
    "\n",
    "control = (df[\"group\"]==\"control\")\n",
    "\n",
    "control_converted =df[\"converted\"][control].sum()\n",
    "total_users_control= df[\"converted\"][control].count()\n",
    "\n",
    "treatment = (df[\"group\"]== \"treatment\")\n",
    "\n",
    "treatment_converted =df[\"converted\"][treatment].sum()\n",
    "total_users_treatment= df[\"converted\"][treatment].count()\n",
    "\n",
    "print(\"Split of control users who saw old page vs treatment users who saw new page:\",\n",
    "\n",
    "round((total_users_control/(df[\"converted\"].count())*100),2),'%',\n",
    "\n",
    "round((total_users_treatment/(df[\"converted\"].count())*100),2),'%')"
   ]
  },
  {
   "cell_type": "code",
   "execution_count": 24,
   "metadata": {},
   "outputs": [
    {
     "name": "stdout",
     "output_type": "stream",
     "text": [
      "Users in control group that converted on old page: 17489\n",
      "% of the control group that converted:  12.04 %\n",
      "Users in treatment group that converted on new page: 17264\n",
      "% of the treatment group that converted:  11.88 %\n"
     ]
    }
   ],
   "source": [
    "#Count number of users who converted in each group\n",
    "\n",
    "print(\"Users in control group that converted on old page:\", control_converted)\n",
    "print(\"% of the control group that converted: \", round((control_converted/total_users_control)*100,2),\"%\")\n",
    "\n",
    "print(\"Users in treatment group that converted on new page:\", treatment_converted)\n",
    "print(\"% of the treatment group that converted: \", round((treatment_converted/total_users_treatment)*100,2),\"%\")"
   ]
  },
  {
   "cell_type": "code",
   "execution_count": 25,
   "metadata": {},
   "outputs": [
    {
     "name": "stdout",
     "output_type": "stream",
     "text": [
      "Required sample size: 17209 per group\n"
     ]
    }
   ],
   "source": [
    "# Defining the test parameters\n",
    "\n",
    "# First, I checked the sample size requirement to run the experiment\n",
    "#Effect size for a tests comparing two proportions and use in power function. \n",
    "# It is unlikely that the statistical significance that conflates effect size and sample size\n",
    "#It measures the size of the difference, rather than confounding this with the sample size\n",
    "\n",
    "# NormalIndPower is statistical power calculation for z test for 2 independent samples\n",
    "\n",
    "Baseline_rate = control_converted/total_users_control\n",
    "Practical_significance = 0.01\n",
    "Confidence_level= 0.05 \n",
    "Sensitivity = 0.8\n",
    "\n",
    "effect_size = sms.proportion_effectsize(Baseline_rate, Baseline_rate + Practical_significance)\n",
    "sample_size =sms.NormalIndPower().solve_power(effect_size= effect_size, power =Sensitivity, alpha= Confidence_level,ratio=1)\n",
    "\n",
    "print(\"Required sample size:\", round(sample_size), \"per group\")"
   ]
  },
  {
   "cell_type": "code",
   "execution_count": 40,
   "metadata": {},
   "outputs": [
    {
     "name": "stdout",
     "output_type": "stream",
     "text": [
      "pooled_prob= 0.12\n"
     ]
    }
   ],
   "source": [
    "#Let's proceed to A/B Testing using the frequentist approach. The Bayesian ML approach will be treated later\n",
    "\n",
    "# First, I calculate the pooled probability \n",
    "   \n",
    "pooled_prob=(control_converted + treatment_converted)/(total_users_treatment + total_users_control)\n",
    "\n",
    "print(\"pooled_prob=\",round(pooled_prob,3))"
   ]
  },
  {
   "cell_type": "code",
   "execution_count": 43,
   "metadata": {},
   "outputs": [],
   "source": [
    "# To calculate pooled standard error,z-score & margin of error(from a 2-tailed standard normal distribution)\n",
    "# Each tail= 0.025 .Therefore,z-score =st.norm.ppf(1-0.025). Moving from z-score to prob(ppf) is st.norm.cdf(z-score)\n",
    "\n",
    "pooled_se= math.sqrt(pooled_prob* (1-pooled_prob)*(1/total_users_control + 1/total_users_treatment))\n",
    "\n",
    "z_score = st.norm.ppf(1-Confidence_level /2)\n",
    "\n",
    "margin_of_error =pooled_se *z_score\n"
   ]
  },
  {
   "cell_type": "code",
   "execution_count": 45,
   "metadata": {},
   "outputs": [
    {
     "name": "stdout",
     "output_type": "stream",
     "text": [
      "d_hat= -0.0015782389853555567\n"
     ]
    }
   ],
   "source": [
    "#For d_hat, estimated difference between the probabilities of conversion (experimented vs control group)\n",
    "\n",
    "# d_hat of -0.00157 indicates the probability of conversion is higher in the control group than treatment\n",
    "# However, it would be informative to know if the difference is high enough to reject the null hypothesis\n",
    "\n",
    "d_hat= (treatment_converted/total_users_treatment)-(control_converted/total_users_control)\n",
    "\n",
    "print(\"d_hat=\", d_hat)"
   ]
  },
  {
   "cell_type": "code",
   "execution_count": 46,
   "metadata": {},
   "outputs": [],
   "source": [
    "# Testing to know if we can reject the null hypothesis. The decision boundaries are needed here\n",
    "\n",
    "Lower_bound = d_hat - margin_of_error\n",
    "Upper_bound = d_hat + margin_of_error"
   ]
  },
  {
   "cell_type": "code",
   "execution_count": 47,
   "metadata": {},
   "outputs": [
    {
     "name": "stdout",
     "output_type": "stream",
     "text": [
      "Fail to reject the null hypothesis\n",
      "Lower bound of the confidence interval will be: -0.39 %\n",
      "Upper bound of the confidence interval will be: 0.08 %\n"
     ]
    }
   ],
   "source": [
    "# Finally, let's evaluate treatment effect using the decision rule:\n",
    "    \n",
    "if Practical_significance < Lower_bound:\n",
    "    \n",
    "     print(\"Reject the null hypothesis that there treatment effect is insignificant\")\n",
    "else:\n",
    "     print(\"Fail to reject the null hypothesis\")\n",
    "     \n",
    "print(\"Lower bound of the confidence interval will be:\", round((Lower_bound)*100,2),\"%\")\n",
    "print(\"Upper bound of the confidence interval will be:\", round((Upper_bound)*100,2),\"%\")"
   ]
  },
  {
   "cell_type": "code",
   "execution_count": 48,
   "metadata": {},
   "outputs": [],
   "source": [
    "# In conclusion,at 95pct C.I, we fail to reject the null hypothesis that the effect of treating the experiment group is insignificant"
   ]
  }
 ],
 "metadata": {
  "kernelspec": {
   "display_name": "Python 3",
   "language": "python",
   "name": "python3"
  },
  "language_info": {
   "codemirror_mode": {
    "name": "ipython",
    "version": 3
   },
   "file_extension": ".py",
   "mimetype": "text/x-python",
   "name": "python",
   "nbconvert_exporter": "python",
   "pygments_lexer": "ipython3",
   "version": "3.8.3"
  }
 },
 "nbformat": 4,
 "nbformat_minor": 4
}
